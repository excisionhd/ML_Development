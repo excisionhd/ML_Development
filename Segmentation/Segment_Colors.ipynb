{
 "cells": [
  {
   "cell_type": "code",
   "execution_count": 1,
   "metadata": {},
   "outputs": [],
   "source": [
    "import cv2\n",
    "import numpy as np\n",
    "from PIL import Image\n",
    "import os\n",
    "from skimage.io import imshow"
   ]
  },
  {
   "cell_type": "code",
   "execution_count": 3,
   "metadata": {},
   "outputs": [
    {
     "name": "stdout",
     "output_type": "stream",
     "text": [
      "C\n",
      "L\n",
      "S\n"
     ]
    }
   ],
   "source": [
    "import cv2\n",
    "import numpy as np\n",
    "from PIL import Image\n",
    "import os\n",
    "from skimage.io import imshow\n",
    "\n",
    "blue_lower=np.array([25,130,110],np.uint8)\n",
    "blue_upper=np.array([234,255,255],np.uint8)\n",
    "\n",
    "green_lower=np.array([0,233,110],np.uint8)\n",
    "green_upper=np.array([255,255,255],np.uint8)\n",
    "\n",
    "yellow_lower=np.array([0,190,110],np.uint8)\n",
    "yellow_upper=np.array([255,255,255],np.uint8)\n",
    "\n",
    "kernal = np.ones((5 ,5), \"uint8\")\n",
    "BASE_PATH = \"C:\\\\Users\\\\user\\\\Desktop\\\\Jackie\\\\train_images\"\n",
    "\n",
    "BLUE_IMG_PATH = \"images\\\\blu_\"\n",
    "BLUE_IMG_PATH = os.path.join(BASE_PATH,BLUE_IMG_PATH)\n",
    "BLUE_MASK_PATH = \"masks\\\\blu_\"\n",
    "BLUE_MASK_PATH = os.path.join(BASE_PATH,BLUE_MASK_PATH)\n",
    "\n",
    "GREEN_IMG_PATH = \"images\\\\grn_\"\n",
    "GREEN_IMG_PATH = os.path.join(BASE_PATH,GREEN_IMG_PATH)\n",
    "GREEN_MASK_PATH = \"masks\\\\grn_\"\n",
    "GREEN_MASK_PATH = os.path.join(BASE_PATH,GREEN_MASK_PATH)\n",
    "\n",
    "YELLOW_IMG_PATH = \"images\\\\ylw_\"\n",
    "YELLOW_IMG_PATH = os.path.join(BASE_PATH,YELLOW_IMG_PATH)\n",
    "YELLOW_MASK_PATH = \"masks\\\\ylw_\"\n",
    "YELLOW_MASK_PATH = os.path.join(BASE_PATH,YELLOW_MASK_PATH)\n",
    "\n",
    "letters = [\"C\", \"L\", \"S\"]\n",
    "\n",
    "for letter in letters:\n",
    "    print(letter)\n",
    "    if os.path.exists(BLUE_IMG_PATH + letter):\n",
    "        for i in range(0, len(os.listdir(BLUE_IMG_PATH + letter))):\n",
    "            if os.path.exists(os.path.join(BLUE_IMG_PATH + letter, \"img_blu_\" + letter + \"_\" + str(i) + \".png\")):\n",
    "                img = cv2.imread(os.path.join(BLUE_IMG_PATH + letter, \"img_blu_\" + letter + \"_\" + str(i) + \".png\"))\n",
    "                hsv=cv2.cvtColor(img,cv2.COLOR_BGR2HSV)\n",
    "                blue_mask=cv2.inRange(hsv,blue_lower,blue_upper)\n",
    "                blue=cv2.dilate(blue_mask,kernal)\n",
    "                res1=cv2.bitwise_and(img, img, mask = blue)\n",
    "                gray = cv2.cvtColor(res1, cv2.COLOR_BGR2GRAY)\n",
    "                thresh = 25\n",
    "                im_bw = cv2.threshold(gray, thresh, 255, cv2.THRESH_BINARY)[1]\n",
    "                cv2.imwrite(os.path.join(BLUE_MASK_PATH + letter, \"mask_blu_\" + letter + \"_\" + str(i) + \".png\"), im_bw)\n",
    "\n",
    "    if os.path.exists(GREEN_IMG_PATH + letter):\n",
    "        for i in range(0, len(os.listdir(GREEN_IMG_PATH + letter))):\n",
    "            if os.path.exists(os.path.join(GREEN_IMG_PATH + letter, \"img_grn_\" + letter + \"_\" + str(i) + \".png\")):\n",
    "                img = cv2.imread(os.path.join(GREEN_IMG_PATH + letter, \"img_grn_\" + letter + \"_\" + str(i) + \".png\"))\n",
    "                hsv=cv2.cvtColor(img,cv2.COLOR_BGR2HSV)\n",
    "                green_mask=cv2.inRange(hsv,green_lower,green_upper)\n",
    "                green=cv2.dilate(green_mask,kernal)\n",
    "                res1=cv2.bitwise_and(img, img, mask = green)\n",
    "                gray = cv2.cvtColor(res1, cv2.COLOR_BGR2GRAY)\n",
    "                thresh = 25\n",
    "                im_bw = cv2.threshold(gray, thresh, 255, cv2.THRESH_BINARY)[1]\n",
    "                cv2.imwrite(os.path.join(GREEN_MASK_PATH + letter, \"mask_grn_\" + letter + \"_\" + str(i) + \".png\"), im_bw)\n",
    "\n",
    "    if os.path.exists(YELLOW_IMG_PATH + letter):\n",
    "        for i in range(0, len(os.listdir(YELLOW_IMG_PATH + letter))):\n",
    "            if os.path.exists(os.path.join(YELLOW_IMG_PATH + letter, \"img_ylw_\" + letter + \"_\" + str(i) + \".png\")):\n",
    "                img = cv2.imread(os.path.join(YELLOW_IMG_PATH + letter, \"img_ylw_\" + letter + \"_\" + str(i) + \".png\"))\n",
    "                hsv=cv2.cvtColor(img,cv2.COLOR_BGR2HSV)\n",
    "                yellow_mask=cv2.inRange(hsv,yellow_lower,yellow_upper)\n",
    "                yellow=cv2.dilate(yellow_mask,kernal)\n",
    "                res1=cv2.bitwise_and(img, img, mask = yellow)\n",
    "                gray = cv2.cvtColor(res1, cv2.COLOR_BGR2GRAY)\n",
    "                thresh = 25\n",
    "                im_bw = cv2.threshold(gray, thresh, 255, cv2.THRESH_BINARY)[1]\n",
    "                cv2.imwrite(os.path.join(YELLOW_MASK_PATH + letter, \"mask_ylw_\" + letter + \"_\" + str(i) + \".png\"), im_bw)"
   ]
  },
  {
   "cell_type": "code",
   "execution_count": 205,
   "metadata": {},
   "outputs": [
    {
     "name": "stderr",
     "output_type": "stream",
     "text": [
      "C:\\Users\\user\\Anaconda3\\lib\\site-packages\\skimage\\io\\_plugins\\matplotlib_plugin.py:51: FutureWarning: Conversion of the second argument of issubdtype from `float` to `np.floating` is deprecated. In future, it will be treated as `np.float64 == np.dtype(float).type`.\n",
      "  out_of_range_float = (np.issubdtype(image.dtype, np.float) and\n"
     ]
    },
    {
     "data": {
      "text/plain": [
       "<matplotlib.image.AxesImage at 0x3e2b2668>"
      ]
     },
     "execution_count": 205,
     "metadata": {},
     "output_type": "execute_result"
    },
    {
     "data": {
      "image/png": "[encoded data removed]",
      "text/plain": [
       "<matplotlib.figure.Figure at 0x3b84bc88>"
      ]
     },
     "metadata": {
      "needs_background": "light"
     },
     "output_type": "display_data"
    }
   ],
   "source": [
    "blue_lower=np.array([0,190,110],np.uint8)\n",
    "blue_upper=np.array([255,255,255],np.uint8)\n",
    "img = cv2.imread(\"C:\\\\Users\\\\user\\\\Desktop\\\\Jackie\\\\train_images\\\\images\\\\ylw_C\\\\img_ylw_C_0.png\")\n",
    "kernal = np.ones((5 ,5), \"uint8\")\n",
    "hsv=cv2.cvtColor(img,cv2.COLOR_BGR2HSV)\n",
    "blue_mask=cv2.inRange(hsv,blue_lower,blue_upper)\n",
    "blue=cv2.dilate(blue_mask,kernal)\n",
    "res1=cv2.bitwise_and(img, img, mask = blue)\n",
    "gray = cv2.cvtColor(res1, cv2.COLOR_BGR2GRAY)\n",
    "thresh = 25\n",
    "im_bw = cv2.threshold(gray, thresh, 255, cv2.THRESH_BINARY)[1]\n",
    "imshow(im_bw)\n"
   ]
  },
  {
   "cell_type": "code",
   "execution_count": 222,
   "metadata": {},
   "outputs": [
    {
     "name": "stdout",
     "output_type": "stream",
     "text": [
      "C:\\Users\\user\\Desktop\\Jackie\\train_images\\images\\blu_S\n"
     ]
    },
    {
     "data": {
      "text/plain": [
       "False"
      ]
     },
     "execution_count": 222,
     "metadata": {},
     "output_type": "execute_result"
    }
   ],
   "source": [
    "print(BLUE_IMG_PATH + letter)\n",
    "os.path.exists(GREEN_IMG_PATH + letter)\n"
   ]
  },
  {
   "cell_type": "code",
   "execution_count": null,
   "metadata": {},
   "outputs": [],
   "source": []
  }
 ],
 "metadata": {
  "kernelspec": {
   "display_name": "Python 3",
   "language": "python",
   "name": "python3"
  },
  "language_info": {
   "codemirror_mode": {
    "name": "ipython",
    "version": 3
   },
   "file_extension": ".py",
   "mimetype": "text/x-python",
   "name": "python",
   "nbconvert_exporter": "python",
   "pygments_lexer": "ipython3",
   "version": "3.6.4"
  }
 },
 "nbformat": 4,
 "nbformat_minor": 2
}
