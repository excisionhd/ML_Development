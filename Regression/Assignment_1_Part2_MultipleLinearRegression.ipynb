{
  "nbformat": 4,
  "nbformat_minor": 0,
  "metadata": {
    "colab": {
      "name": "Assignment_1_Part2_MultipleLinearRegression.ipynb",
      "version": "0.3.2",
      "provenance": [],
      "toc_visible": true
    },
    "kernelspec": {
      "name": "python3",
      "display_name": "Python 3"
    }
  },
  "cells": [
    {
      "metadata": {
        "id": "pO8WNW7rfkLS",
        "colab_type": "code",
        "colab": {}
      },
      "cell_type": "code",
      "source": [
        "# The modules we're going to use\n",
        "from __future__ import print_function\n",
        "from sklearn import preprocessing\n",
        "from sklearn.model_selection import train_test_split\n",
        "from sklearn import datasets, linear_model\n",
        "from scipy import linalg\n",
        "import numpy as np\n",
        "import matplotlib.pyplot as plt\n",
        "import pandas as pd\n",
        "\n",
        "# When you execute a code to plot with a simple SHIFT-ENTER, the plot will be shown directly under the code cell\n",
        "%matplotlib inline\n",
        "\n",
        "from google.colab import drive\n",
        "drive.mount('/content/drive')"
      ],
      "execution_count": 0,
      "outputs": []
    },
    {
      "metadata": {
        "id": "B_P5e1vhK1Re",
        "colab_type": "code",
        "colab": {
          "base_uri": "https://localhost:8080/",
          "height": 1123
        },
        "outputId": "34927e29-1d23-4f89-b513-33973ad65427"
      },
      "cell_type": "code",
      "source": [
        "data = pd.read_csv('drive/My Drive/College/Machine Learning/cars.csv', header = None)\n",
        "data = data.drop(data.columns[8], axis=1)\n",
        "data = data.drop(data.columns[3], axis=1)\n",
        "data = data.dropna(how='all')\n",
        "print(data)\n"
      ],
      "execution_count": 73,
      "outputs": [
        {
          "output_type": "stream",
          "text": [
            "        0  1      2     4     5   6  7\n",
            "0    18.0  8  307.0  3504  12.0  70  1\n",
            "1    15.0  8  350.0  3693  11.5  70  1\n",
            "2    18.0  8  318.0  3436  11.0  70  1\n",
            "3    16.0  8  304.0  3433  12.0  70  1\n",
            "4    17.0  8  302.0  3449  10.5  70  1\n",
            "5    15.0  8  429.0  4341  10.0  70  1\n",
            "6    14.0  8  454.0  4354   9.0  70  1\n",
            "7    14.0  8  440.0  4312   8.5  70  1\n",
            "8    14.0  8  455.0  4425  10.0  70  1\n",
            "9    15.0  8  390.0  3850   8.5  70  1\n",
            "10   15.0  8  383.0  3563  10.0  70  1\n",
            "11   14.0  8  340.0  3609   8.0  70  1\n",
            "12   15.0  8  400.0  3761   9.5  70  1\n",
            "13   14.0  8  455.0  3086  10.0  70  1\n",
            "14   24.0  4  113.0  2372  15.0  70  3\n",
            "15   22.0  6  198.0  2833  15.5  70  1\n",
            "16   18.0  6  199.0  2774  15.5  70  1\n",
            "17   21.0  6  200.0  2587  16.0  70  1\n",
            "18   27.0  4   97.0  2130  14.5  70  3\n",
            "19   26.0  4   97.0  1835  20.5  70  2\n",
            "20   25.0  4  110.0  2672  17.5  70  2\n",
            "21   24.0  4  107.0  2430  14.5  70  2\n",
            "22   25.0  4  104.0  2375  17.5  70  2\n",
            "23   26.0  4  121.0  2234  12.5  70  2\n",
            "24   21.0  6  199.0  2648  15.0  70  1\n",
            "25   10.0  8  360.0  4615  14.0  70  1\n",
            "26   10.0  8  307.0  4376  15.0  70  1\n",
            "27   11.0  8  318.0  4382  13.5  70  1\n",
            "28    9.0  8  304.0  4732  18.5  70  1\n",
            "29   27.0  4   97.0  2130  14.5  71  3\n",
            "..    ... ..    ...   ...   ...  .. ..\n",
            "368  27.0  4  112.0  2640  18.6  82  1\n",
            "369  34.0  4  112.0  2395  18.0  82  1\n",
            "370  31.0  4  112.0  2575  16.2  82  1\n",
            "371  29.0  4  135.0  2525  16.0  82  1\n",
            "372  27.0  4  151.0  2735  18.0  82  1\n",
            "373  24.0  4  140.0  2865  16.4  82  1\n",
            "374  23.0  4  151.0  3035  20.5  82  1\n",
            "375  36.0  4  105.0  1980  15.3  82  2\n",
            "376  37.0  4   91.0  2025  18.2  82  3\n",
            "377  31.0  4   91.0  1970  17.6  82  3\n",
            "378  38.0  4  105.0  2125  14.7  82  1\n",
            "379  36.0  4   98.0  2125  17.3  82  1\n",
            "380  36.0  4  120.0  2160  14.5  82  3\n",
            "381  36.0  4  107.0  2205  14.5  82  3\n",
            "382  34.0  4  108.0  2245  16.9  82  3\n",
            "383  38.0  4   91.0  1965  15.0  82  3\n",
            "384  32.0  4   91.0  1965  15.7  82  3\n",
            "385  38.0  4   91.0  1995  16.2  82  3\n",
            "386  25.0  6  181.0  2945  16.4  82  1\n",
            "387  38.0  6  262.0  3015  17.0  82  1\n",
            "388  26.0  4  156.0  2585  14.5  82  1\n",
            "389  22.0  6  232.0  2835  14.7  82  1\n",
            "390  32.0  4  144.0  2665  13.9  82  3\n",
            "391  36.0  4  135.0  2370  13.0  82  1\n",
            "392  27.0  4  151.0  2950  17.3  82  1\n",
            "393  27.0  4  140.0  2790  15.6  82  1\n",
            "394  44.0  4   97.0  2130  24.6  82  2\n",
            "395  32.0  4  135.0  2295  11.6  82  1\n",
            "396  28.0  4  120.0  2625  18.6  82  1\n",
            "397  31.0  4  119.0  2720  19.4  82  1\n",
            "\n",
            "[398 rows x 7 columns]\n"
          ],
          "name": "stdout"
        }
      ]
    },
    {
      "metadata": {
        "id": "prGJ8pvCRdIr",
        "colab_type": "code",
        "colab": {}
      },
      "cell_type": "code",
      "source": [
        "X = data.iloc[ : ,  0 :  ].values\n",
        "Y = data.iloc[ : , 0 ].values\n",
        "\n",
        "# Feature scaling\n",
        "scaler = preprocessing.StandardScaler().fit(X)\n",
        "X_train = scaler.transform(X_train)\n",
        "X_test = scaler.transform(X_test)\n",
        "\n",
        "from sklearn.cross_validation import train_test_split\n",
        "X_train, X_test, Y_train, Y_test = train_test_split( X, Y, test_size = 1/4, random_state = 0) "
      ],
      "execution_count": 0,
      "outputs": []
    },
    {
      "metadata": {
        "id": "O8yyNbKgfsUB",
        "colab_type": "code",
        "colab": {}
      },
      "cell_type": "code",
      "source": [
        ""
      ],
      "execution_count": 0,
      "outputs": []
    },
    {
      "metadata": {
        "id": "gOEgUgRyUN1A",
        "colab_type": "code",
        "colab": {
          "base_uri": "https://localhost:8080/",
          "height": 381
        },
        "outputId": "ef04e3d6-1c9e-4e88-db23-abde509f21bb"
      },
      "cell_type": "code",
      "source": [
        "# Task 1-1: use linear regression in sklearn\n",
        "model = linear_model.LinearRegression()\n",
        "model.fit(X_train, Y_train)\n",
        "\n",
        "# Task 1-2: show intercept and coefficents\n",
        "print(model.coef_)\n",
        "print(model.intercept_)\n",
        "\n",
        "# Task 1-3: show errors on training dataset and testing dataset\n",
        "from sklearn.metrics import mean_squared_error\n",
        "train_predictions = model.predict(X_train)\n",
        "test_predictions = model.predict(X_test)\n",
        "\n",
        "print(\"Training Dataset Mean squared error: %.2f\" % mean_squared_error(train_predictions, Y_train))\n",
        "print(\"Testing Dataset Mean squared error: %.2f\" % mean_squared_error(test_predictions, Y_test))\n",
        "\n",
        "\n",
        "# Task 1-4: show plot a figure to show your predictions and real prices on the testing dataset\n",
        "plt.scatter(Y_test, test_predictions,  color='red')\n",
        "plt.xlabel('')\n",
        "plt.ylabel('')\n",
        "plt.title('SKLearn Method')\n",
        "\n",
        "plt.show()\n"
      ],
      "execution_count": 83,
      "outputs": [
        {
          "output_type": "stream",
          "text": [
            "[ 1.00000000e+00 -3.97627192e-16  1.93875456e-16 -1.66125918e-17\n",
            " -5.10556870e-17 -5.29784059e-16  2.17326262e-16]\n",
            "5.684341886080802e-14\n",
            "Training Dataset Mean squared error: 0.00\n",
            "Testing Dataset Mean squared error: 0.00\n"
          ],
          "name": "stdout"
        },
        {
          "output_type": "display_data",
          "data": {
            "image/png": "[encoded data removed]",
            "text/plain": [
              "<matplotlib.figure.Figure at 0x7f43e5c8c240>"
            ]
          },
          "metadata": {
            "tags": []
          }
        }
      ]
    },
    {
      "metadata": {
        "id": "2vFiCNQufo7U",
        "colab_type": "code",
        "colab": {}
      },
      "cell_type": "code",
      "source": [
        ""
      ],
      "execution_count": 0,
      "outputs": []
    },
    {
      "metadata": {
        "id": "OgCIz-lKUgmd",
        "colab_type": "code",
        "colab": {}
      },
      "cell_type": "code",
      "source": [
        ""
      ],
      "execution_count": 0,
      "outputs": []
    }
  ]
}