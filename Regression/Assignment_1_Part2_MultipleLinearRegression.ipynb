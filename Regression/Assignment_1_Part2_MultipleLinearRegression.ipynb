{
  "nbformat": 4,
  "nbformat_minor": 0,
  "metadata": {
    "colab": {
      "name": "Assignment_1_Part2_MultipleLinearRegression.ipynb",
      "version": "0.3.2",
      "provenance": [],
      "toc_visible": true
    },
    "kernelspec": {
      "name": "python3",
      "display_name": "Python 3"
    }
  },
  "cells": [
    {
      "metadata": {
        "id": "pO8WNW7rfkLS",
        "colab_type": "code",
        "colab": {
          "base_uri": "https://localhost:8080/",
          "height": 35
        },
        "outputId": "898b4421-f19c-4c56-e904-fd3a10f70fb8"
      },
      "cell_type": "code",
      "source": [
        "# The modules we're going to use\n",
        "from __future__ import print_function\n",
        "from sklearn import preprocessing\n",
        "from sklearn.model_selection import train_test_split\n",
        "from sklearn import datasets, linear_model\n",
        "from scipy import linalg\n",
        "import numpy as np\n",
        "import matplotlib.pyplot as plt\n",
        "import pandas as pd\n",
        "\n",
        "# When you execute a code to plot with a simple SHIFT-ENTER, the plot will be shown directly under the code cell\n",
        "%matplotlib inline\n",
        "\n",
        "from google.colab import drive\n",
        "drive.mount('/content/drive')"
      ],
      "execution_count": 138,
      "outputs": [
        {
          "output_type": "stream",
          "text": [
            "Mounted at /content/drive\n"
          ],
          "name": "stdout"
        }
      ]
    },
    {
      "metadata": {
        "id": "B_P5e1vhK1Re",
        "colab_type": "code",
        "colab": {
          "base_uri": "https://localhost:8080/",
          "height": 121
        },
        "outputId": "8f137443-b45d-45f1-c796-f103a892c971"
      },
      "cell_type": "code",
      "source": [
        "#Assign the names of the columns and import the dataset.\n",
        "names = ['mpg','cylinders','displacement','horsepower','weight','acceleration','model_year', 'origin', 'car_name']\n",
        "data = pd.read_csv('drive/My Drive/College/Machine Learning/cars.csv', names = names,index_col=False)\n",
        "\n",
        "#Drop any features that may not be of use in numerical calculations.  Extracting meaningful data from car_name would refer to Natural\n",
        "#Language Processing, which is too complicated for a simple regression model.\n",
        "data = data.drop(['car_name', 'origin'], axis=1)\n",
        "\n",
        "#Remove any rows with NA/? values and convert string to float values.  \n",
        "#Alternative: Take the average value of the columns and assign it.\n",
        "data = data.dropna(how='all')\n",
        "data = data[data.horsepower != '?']\n",
        "data['horsepower'] = data['horsepower'].astype('float64') \n",
        "print(data.head())\n"
      ],
      "execution_count": 139,
      "outputs": [
        {
          "output_type": "stream",
          "text": [
            "    mpg  cylinders  displacement  horsepower  weight  acceleration  model_year\n",
            "0  18.0          8         307.0       130.0    3504          12.0          70\n",
            "1  15.0          8         350.0       165.0    3693          11.5          70\n",
            "2  18.0          8         318.0       150.0    3436          11.0          70\n",
            "3  16.0          8         304.0       150.0    3433          12.0          70\n",
            "4  17.0          8         302.0       140.0    3449          10.5          70\n"
          ],
          "name": "stdout"
        }
      ]
    },
    {
      "metadata": {
        "id": "prGJ8pvCRdIr",
        "colab_type": "code",
        "colab": {}
      },
      "cell_type": "code",
      "source": [
        "#Split into data and targets. iloc allows selection of specific rows and columns.  Our target is mpg; we want to predict the mpg of a\n",
        "#car given its specifications.\n",
        "X = data.iloc[ : ,  1 :  ].values\n",
        "Y = data.iloc[ : , 0 ].values\n",
        "\n",
        "#Split the data into training and testing.\n",
        "from sklearn.cross_validation import train_test_split\n",
        "X_train, X_test, Y_train, Y_test = train_test_split(X, Y, test_size = 1/4, random_state = 0) "
      ],
      "execution_count": 0,
      "outputs": []
    },
    {
      "metadata": {
        "id": "O8yyNbKgfsUB",
        "colab_type": "code",
        "colab": {
          "base_uri": "https://localhost:8080/",
          "height": 86
        },
        "outputId": "03d85ba4-5408-4cbf-9653-ec2ed83cb859"
      },
      "cell_type": "code",
      "source": [
        "#Preview the shapes to ensure linear algebra will function properly.\n",
        "print(X_train.shape)\n",
        "print(Y_train.shape)\n",
        "\n",
        "print(X_test.shape)\n",
        "print(Y_test.shape)"
      ],
      "execution_count": 141,
      "outputs": [
        {
          "output_type": "stream",
          "text": [
            "(294, 6)\n",
            "(294,)\n",
            "(98, 6)\n",
            "(98,)\n"
          ],
          "name": "stdout"
        }
      ]
    },
    {
      "metadata": {
        "id": "gOEgUgRyUN1A",
        "colab_type": "code",
        "colab": {
          "base_uri": "https://localhost:8080/",
          "height": 349
        },
        "outputId": "81fccebd-bcad-47c3-dc5a-f5ba5c919593"
      },
      "cell_type": "code",
      "source": [
        "#Generate our model while normalizing the data.\n",
        "model = linear_model.LinearRegression(normalize='true')\n",
        "\n",
        "#Train the model on the training dataset and targets.\n",
        "model.fit(X_train, Y_train)\n",
        "\n",
        "#View our weights and biases after training.\n",
        "print(model.coef_)\n",
        "print(model.intercept_)\n",
        "\n",
        "#Have our model predict values and calculate the mean squared error.\n",
        "from sklearn.metrics import mean_squared_error\n",
        "train_predictions = model.predict(X_train)\n",
        "test_predictions = model.predict(X_test)\n",
        "print(\"Training Dataset Mean squared error: %.2f\" % mean_squared_error(train_predictions, Y_train))\n",
        "print(\"Testing Dataset Mean squared error: %.2f\" % mean_squared_error(test_predictions, Y_test))\n",
        "\n",
        "\n",
        "#Plot the actual mpg with our predicted mpg on the testing dataset to determine linearity.\n",
        "plt.scatter(Y_test, test_predictions,  color='red')\n",
        "plt.xlabel('')\n",
        "plt.ylabel('')\n",
        "plt.title('SKLearn Method')\n",
        "\n",
        "plt.show()\n"
      ],
      "execution_count": 142,
      "outputs": [
        {
          "output_type": "stream",
          "text": [
            "[-0.20058761  0.00128133  0.00674623 -0.00665921  0.13115667  0.71659333]\n",
            "-13.173500815969565\n",
            "Training Dataset Mean squared error: 11.55\n",
            "Testing Dataset Mean squared error: 11.97\n"
          ],
          "name": "stdout"
        },
        {
          "output_type": "display_data",
          "data": {
            "image/png": "[encoded data removed]",
            "text/plain": [
              "<matplotlib.figure.Figure at 0x7f78a7a7bf28>"
            ]
          },
          "metadata": {
            "tags": []
          }
        }
      ]
    },
    {
      "metadata": {
        "id": "OgCIz-lKUgmd",
        "colab_type": "code",
        "colab": {
          "base_uri": "https://localhost:8080/",
          "height": 138
        },
        "outputId": "12e3e552-2112-4228-e7b2-2349c5ff7118"
      },
      "cell_type": "code",
      "source": [
        "#Try a different model...\n",
        "from sklearn.ensemble import GradientBoostingRegressor\n",
        "gb_regressor = GradientBoostingRegressor(n_estimators=4000)\n",
        "gb_regressor.fit(X_train, Y_train)"
      ],
      "execution_count": 143,
      "outputs": [
        {
          "output_type": "execute_result",
          "data": {
            "text/plain": [
              "GradientBoostingRegressor(alpha=0.9, criterion='friedman_mse', init=None,\n",
              "             learning_rate=0.1, loss='ls', max_depth=3, max_features=None,\n",
              "             max_leaf_nodes=None, min_impurity_decrease=0.0,\n",
              "             min_impurity_split=None, min_samples_leaf=1,\n",
              "             min_samples_split=2, min_weight_fraction_leaf=0.0,\n",
              "             n_estimators=4000, presort='auto', random_state=None,\n",
              "             subsample=1.0, verbose=0, warm_start=False)"
            ]
          },
          "metadata": {
            "tags": []
          },
          "execution_count": 143
        }
      ]
    },
    {
      "metadata": {
        "id": "lBXvmVJmX-5j",
        "colab_type": "code",
        "colab": {
          "base_uri": "https://localhost:8080/",
          "height": 345
        },
        "outputId": "fe07c315-405f-42b0-a213-d55aa0933df7"
      },
      "cell_type": "code",
      "source": [
        "gb_regressor.get_params()"
      ],
      "execution_count": 144,
      "outputs": [
        {
          "output_type": "execute_result",
          "data": {
            "text/plain": [
              "{'alpha': 0.9,\n",
              " 'criterion': 'friedman_mse',\n",
              " 'init': None,\n",
              " 'learning_rate': 0.1,\n",
              " 'loss': 'ls',\n",
              " 'max_depth': 3,\n",
              " 'max_features': None,\n",
              " 'max_leaf_nodes': None,\n",
              " 'min_impurity_decrease': 0.0,\n",
              " 'min_impurity_split': None,\n",
              " 'min_samples_leaf': 1,\n",
              " 'min_samples_split': 2,\n",
              " 'min_weight_fraction_leaf': 0.0,\n",
              " 'n_estimators': 4000,\n",
              " 'presort': 'auto',\n",
              " 'random_state': None,\n",
              " 'subsample': 1.0,\n",
              " 'verbose': 0,\n",
              " 'warm_start': False}"
            ]
          },
          "metadata": {
            "tags": []
          },
          "execution_count": 144
        }
      ]
    },
    {
      "metadata": {
        "id": "oK0faAdUYFks",
        "colab_type": "code",
        "colab": {
          "base_uri": "https://localhost:8080/",
          "height": 283
        },
        "outputId": "fb08d6da-42dd-4231-dce1-74bdcf08e3c8"
      },
      "cell_type": "code",
      "source": [
        "#Predict mpg with new model\n",
        "gbr_predictions_test = gb_regressor.predict(X_test)\n",
        "\n",
        "#Determine which feature is most important.\n",
        "names = list(data)\n",
        "names.remove('mpg')\n",
        "fi= pd.Series(gb_regressor.feature_importances_,index=names)\n",
        "fi.plot.barh()"
      ],
      "execution_count": 145,
      "outputs": [
        {
          "output_type": "execute_result",
          "data": {
            "text/plain": [
              "<matplotlib.axes._subplots.AxesSubplot at 0x7f78a686b898>"
            ]
          },
          "metadata": {
            "tags": []
          },
          "execution_count": 145
        },
        {
          "output_type": "display_data",
          "data": {
            "image/png": "[encoded data removed]",
            "text/plain": [
              "<matplotlib.figure.Figure at 0x7f78a686b278>"
            ]
          },
          "metadata": {
            "tags": []
          }
        }
      ]
    },
    {
      "metadata": {
        "id": "0y2v-uMcYIFN",
        "colab_type": "code",
        "colab": {
          "base_uri": "https://localhost:8080/",
          "height": 312
        },
        "outputId": "da4a7a83-c77e-4678-a624-07af9372035a"
      },
      "cell_type": "code",
      "source": [
        "print(\"MSE: %.5f\" % mean_squared_error(Y_test,gbr_predictions_test))\n",
        "\n",
        "plt.scatter(Y_test, gbr_predictions,  color='red')\n",
        "plt.xlabel('Actual MPG')\n",
        "plt.ylabel('GBR Predicted MPG')\n",
        "plt.title('GBR Model')\n",
        "\n",
        "plt.show()"
      ],
      "execution_count": 146,
      "outputs": [
        {
          "output_type": "stream",
          "text": [
            "MSE: 9.09868\n"
          ],
          "name": "stdout"
        },
        {
          "output_type": "display_data",
          "data": {
            "image/png": "[encoded data removed]",
            "text/plain": [
              "<matplotlib.figure.Figure at 0x7f78a6852128>"
            ]
          },
          "metadata": {
            "tags": []
          }
        }
      ]
    },
    {
      "metadata": {
        "id": "il8yfIXHYQmO",
        "colab_type": "code",
        "colab": {}
      },
      "cell_type": "code",
      "source": [
        ""
      ],
      "execution_count": 0,
      "outputs": []
    }
  ]
}