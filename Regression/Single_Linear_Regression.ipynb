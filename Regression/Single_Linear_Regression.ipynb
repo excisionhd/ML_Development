{
  "nbformat": 4,
  "nbformat_minor": 0,
  "metadata": {
    "colab": {
      "name": "LR1.ipynb",
      "version": "0.3.2",
      "provenance": []
    },
    "kernelspec": {
      "name": "python3",
      "display_name": "Python 3"
    },
    "accelerator": "GPU"
  },
  "cells": [
    {
      "metadata": {
        "id": "fhoP6ROThVZt",
        "colab_type": "code",
        "colab": {}
      },
      "cell_type": "code",
      "source": [
        "import numpy as np\n",
        "import pandas as pd\n",
        "import sklearn\n",
        "import matplotlib.pyplot as plt\n",
        "from sklearn.datasets import load_boston, load_iris\n"
      ],
      "execution_count": 0,
      "outputs": []
    },
    {
      "metadata": {
        "id": "Ibaqv_5GiD-4",
        "colab_type": "code",
        "colab": {}
      },
      "cell_type": "code",
      "source": [
        "#Preprocess Data\n",
        "boston = load_boston()\n",
        "X = boston.data[:, 5:6]  \n",
        "y = boston.target.reshape(506,1)\n",
        "points = np.concatenate((X,y), axis=1)\n",
        "y2 = boston.target"
      ],
      "execution_count": 0,
      "outputs": []
    },
    {
      "metadata": {
        "id": "6USjDN0u30WF",
        "colab_type": "code",
        "colab": {}
      },
      "cell_type": "code",
      "source": [
        "def train():\n",
        "  learning_rate = 0.01\n",
        "  initial_b = 10\n",
        "  initial_m = 10\n",
        "  num_iterations = 10000\n",
        "  b, m = gradient_descent(points, initial_b, initial_m, learning_rate, num_iterations)\n",
        "  print(\"Starting gradient descent at b = {0}, m = {1}, error = {2}\".format(initial_b, initial_m, compute_error(initial_b, initial_m, points)))\n",
        "  print(\"Running...\")\n",
        "  [b, m] = gradient_descent(points, initial_b, initial_m, learning_rate, num_iterations)\n",
        "  print(\"After {0} iterations b = {1}, m = {2}, error = {3}\".format(num_iterations, b, m, compute_error(b, m, points)))\n",
        "  line_x = np.arange(4.,10.)\n",
        "  plt.plot(X,y2, 'ro')\n",
        "  plt.plot(line_x,m*line_x+b, 'r')\n",
        "  plt.show()\n",
        "\n"
      ],
      "execution_count": 0,
      "outputs": []
    },
    {
      "metadata": {
        "id": "uiOlJW8u4taG",
        "colab_type": "code",
        "colab": {}
      },
      "cell_type": "code",
      "source": [
        "def gradient_descent(points, initial_b, initial_m, learning_rate, num_iterations):\n",
        "  b = initial_b\n",
        "  m = initial_m\n",
        "  \n",
        "  for i in range(num_iterations):\n",
        "    b, m = step_gradient(b, m, points, learning_rate)\n",
        "    \n",
        "  return b, m"
      ],
      "execution_count": 0,
      "outputs": []
    },
    {
      "metadata": {
        "id": "wg3o3EdUyR9u",
        "colab_type": "code",
        "colab": {}
      },
      "cell_type": "code",
      "source": [
        "def step_gradient(b_current, m_current, points, learning_rate):\n",
        "  b_gradient = 0\n",
        "  m_gradient = 0\n",
        "  N = float(len(points))\n",
        "  \n",
        "  for i in range(0, len(points)):\n",
        "    x = points[i,0]\n",
        "    y = points[i,1]\n",
        "    b_gradient += -(2/N) * (y - ((m_current * x) + b_current))\n",
        "    m_gradient += -(2/N) * (y - ((m_current * x) + b_current)) * x\n",
        "    \n",
        "  new_b = b_current - (learning_rate * b_gradient)\n",
        "  new_m = m_current - (learning_rate * m_gradient)\n",
        "  \n",
        "  return new_b, new_m\n",
        "    \n",
        "  "
      ],
      "execution_count": 0,
      "outputs": []
    },
    {
      "metadata": {
        "id": "tojsMeC96P5b",
        "colab_type": "code",
        "colab": {}
      },
      "cell_type": "code",
      "source": [
        "def compute_error(b, m, points):\n",
        "  totalError = 0\n",
        "  for i in range(0, len(points)):\n",
        "    x = points[i,0]\n",
        "    y = points[i,1]\n",
        "    totalError += (y - (m * x + b))**2\n",
        "  return totalError / float(len(points))"
      ],
      "execution_count": 0,
      "outputs": []
    },
    {
      "metadata": {
        "id": "8MX-D7v7tq5o",
        "colab_type": "code",
        "colab": {
          "base_uri": "https://localhost:8080/",
          "height": 418
        },
        "outputId": "9b37bf91-5d95-4349-a18f-380fea93ed6e"
      },
      "cell_type": "code",
      "source": [
        "train()"
      ],
      "execution_count": 97,
      "outputs": [
        {
          "output_type": "stream",
          "text": [
            "Starting gradient descent at b = 10, m = 10, error = 2575.449827470356\n",
            "Running...\n",
            "After 10000 iterations b = -30.748131964178462, m = 8.485473854101828, error = 43.79011794859675\n"
          ],
          "name": "stdout"
        },
        {
          "output_type": "display_data",
          "data": {
            "image/png": "[encoded data removed]",
            "text/plain": [
              "<matplotlib.figure.Figure at 0x7fe54ffafeb8>"
            ]
          },
          "metadata": {
            "tags": []
          }
        }
      ]
    },
    {
      "metadata": {
        "id": "zHASAKP6CSzs",
        "colab_type": "code",
        "colab": {}
      },
      "cell_type": "code",
      "source": [
        ""
      ],
      "execution_count": 0,
      "outputs": []
    },
    {
      "metadata": {
        "id": "iRzFJybd_uCH",
        "colab_type": "code",
        "colab": {}
      },
      "cell_type": "code",
      "source": [
        ""
      ],
      "execution_count": 0,
      "outputs": []
    },
    {
      "metadata": {
        "id": "7mHbkUlj_1Eo",
        "colab_type": "code",
        "colab": {}
      },
      "cell_type": "code",
      "source": [
        ""
      ],
      "execution_count": 0,
      "outputs": []
    },
    {
      "metadata": {
        "id": "hwCyfqjtBCdK",
        "colab_type": "code",
        "colab": {}
      },
      "cell_type": "code",
      "source": [
        ""
      ],
      "execution_count": 0,
      "outputs": []
    }
  ]
}