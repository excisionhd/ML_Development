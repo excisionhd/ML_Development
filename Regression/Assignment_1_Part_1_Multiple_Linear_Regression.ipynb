{
  "nbformat": 4,
  "nbformat_minor": 0,
  "metadata": {
    "colab": {
      "name": "Assignment 1 - Part 1.ipynb",
      "version": "0.3.2",
      "provenance": []
    },
    "kernelspec": {
      "display_name": "Python 3",
      "language": "python",
      "name": "python3"
    }
  },
  "cells": [
    {
      "metadata": {
        "id": "qIQzx7DvEF0_",
        "colab_type": "text"
      },
      "cell_type": "markdown",
      "source": [
        "<h2>Assignment 1 - Part 1: Linear Regression on Boston Housing Data</h2>\n",
        "\n",
        "You're asked to do the following tasks to predict boston house price:\n",
        "<lu>\n",
        "<li>Use scikit-learn</li>\n",
        "<li>Implement analytical solution (normal equation) to obtain weights</li>\n",
        "<li>Implement numerical solution (gradient descent) to obtain weights</li>\n",
        "</lu>\n",
        "    Note: the accuracy of your implementations should be close to that of a linear model from scikit-learn\n",
        "\n",
        "In addition, you need to show the resulting intercept and coefficents, calculate errors on training dataset and testing dataset, and plot a figure to show your predictions and real prices on the testing dataset. "
      ]
    },
    {
      "metadata": {
        "id": "H87W-phxEF1A",
        "colab_type": "code",
        "colab": {}
      },
      "cell_type": "code",
      "source": [
        "# The modules we're going to use\n",
        "from __future__ import print_function\n",
        "from sklearn import preprocessing\n",
        "from sklearn.model_selection import train_test_split\n",
        "from sklearn import datasets, linear_model\n",
        "from scipy import linalg\n",
        "import numpy as np\n",
        "import matplotlib.pyplot as plt\n",
        "\n",
        "# When you execute a code to plot with a simple SHIFT-ENTER, the plot will be shown directly under the code cell\n",
        "%matplotlib inline"
      ],
      "execution_count": 0,
      "outputs": []
    },
    {
      "metadata": {
        "id": "-HaIDLkxEF1D",
        "colab_type": "code",
        "colab": {}
      },
      "cell_type": "code",
      "source": [
        "# Load data from scikit-learn, which returns (data, target)\n",
        "# note: if you call \"boston = load_boston()\", it returns a dictionary-like object\n",
        "data, target = datasets.load_boston(True)\n",
        "\n",
        "# Split the data into two parts: training data and testing data\n",
        "train_data,test_data,train_target,test_target = train_test_split(data,(target[:, np.newaxis]), test_size=0.2, random_state=42)"
      ],
      "execution_count": 0,
      "outputs": []
    },
    {
      "metadata": {
        "id": "9BE3goYhFuap",
        "colab_type": "code",
        "colab": {
          "base_uri": "https://localhost:8080/",
          "height": 86
        },
        "outputId": "a49ec41a-913a-438e-c1a8-1418c18cf3df"
      },
      "cell_type": "code",
      "source": [
        "print(train_data.shape)\n",
        "print(test_data.shape)\n",
        "print(train_target.shape)\n",
        "print(test_target.shape)"
      ],
      "execution_count": 114,
      "outputs": [
        {
          "output_type": "stream",
          "text": [
            "(404, 13)\n",
            "(102, 13)\n",
            "(404, 1)\n",
            "(102, 1)\n"
          ],
          "name": "stdout"
        }
      ]
    },
    {
      "metadata": {
        "id": "ouGWyc_8EF1G",
        "colab_type": "text"
      },
      "cell_type": "markdown",
      "source": [
        "<h4>Use scikit-learn library in the following cell</h4>"
      ]
    },
    {
      "metadata": {
        "id": "BU8l52R1EF1G",
        "colab_type": "code",
        "colab": {
          "base_uri": "https://localhost:8080/",
          "height": 415
        },
        "outputId": "ca75762e-bccd-4ed7-bc09-52004540db40"
      },
      "cell_type": "code",
      "source": [
        "# Task 1-1: use linear regression in sklearn\n",
        "model = linear_model.LinearRegression()\n",
        "model.fit(train_data, train_target)\n",
        "\n",
        "# Task 1-2: show intercept and coefficents\n",
        "print(model.coef_)\n",
        "print(model.intercept_)\n",
        "\n",
        "# Task 1-3: show errors on training dataset and testing dataset\n",
        "from sklearn.metrics import mean_squared_error\n",
        "train_predictions = model.predict(train_data)\n",
        "test_predictions = model.predict(test_data)\n",
        "\n",
        "print(\"Training Dataset Mean squared error: %.2f\" % mean_squared_error(train_predictions, train_target))\n",
        "print(\"Testing Dataset Mean squared error: %.2f\" % mean_squared_error(test_predictions, test_target))\n",
        "\n",
        "\n",
        "# Task 1-4: show plot a figure to show your predictions and real prices on the testing dataset\n",
        "plt.scatter(test_target, test_predictions,  color='red')\n",
        "plt.xlabel('Actual price ($1000\\'s)')\n",
        "plt.ylabel('Predicted price ($1000\\'s)')\n",
        "plt.title('SKLearn Method')\n",
        "\n",
        "plt.show()\n"
      ],
      "execution_count": 115,
      "outputs": [
        {
          "output_type": "stream",
          "text": [
            "[[-1.12463481e-01  3.00810168e-02  4.07309919e-02  2.78676719e+00\n",
            "  -1.72406347e+01  4.43248784e+00 -6.23998173e-03 -1.44848504e+00\n",
            "   2.62113793e-01 -1.06390978e-02 -9.16398679e-01  1.24516469e-02\n",
            "  -5.09349120e-01]]\n",
            "[30.28894834]\n",
            "Training Dataset Mean squared error: 21.64\n",
            "Testing Dataset Mean squared error: 24.31\n"
          ],
          "name": "stdout"
        },
        {
          "output_type": "display_data",
          "data": {
            "image/png": "[encoded data removed]",
            "text/plain": [
              "<matplotlib.figure.Figure at 0x7f9779402668>"
            ]
          },
          "metadata": {
            "tags": []
          }
        }
      ]
    },
    {
      "metadata": {
        "id": "lVwLaRiMEF1J",
        "colab_type": "text"
      },
      "cell_type": "markdown",
      "source": [
        "<h4>Use analytical solution (normal equation) to perform linear regression in the following cell</h4>"
      ]
    },
    {
      "metadata": {
        "id": "ZMPHpZsgEF1J",
        "colab_type": "code",
        "colab": {
          "base_uri": "https://localhost:8080/",
          "height": 588
        },
        "outputId": "e3d1b3f2-b5a3-4c36-d050-b74395a40d9f"
      },
      "cell_type": "code",
      "source": [
        "# Task 2-1: Implement a function solving normal equation \n",
        "# Inputs: Training data and  training label\n",
        "# Output: Weights\n",
        "# 𝑤 = (𝑋t𝑋)-1 𝑋T t\n",
        "\n",
        "def myNormalEqualFun(X,y):\n",
        "  first_term = linalg.inv(np.dot(X.T,X))\n",
        "  second_term = np.dot(X.T, y)\n",
        "  w = np.dot(first_term,second_term)\n",
        "  return w\n",
        "    \n",
        "# Task 2-2: Implement a function performing prediction\n",
        "# Inputs: Testing data and weights\n",
        "# Output: Predictions\n",
        "def myPredictFun(X,w):\n",
        "  predictions = np.dot(X, w.T)\n",
        "  return predictions\n",
        "\n",
        "# Here we insert a column of 1s into training_data and test_data (to be consistent with our lecture slides)\n",
        "train_data_intercept = np.insert(train_data, 0, 1, axis=1)\n",
        "test_data_intercept = np.insert(test_data, 0, 1, axis=1)\n",
        "\n",
        "\n",
        "# Here we call myNormalEqual to train the model and get weights\n",
        "w = myNormalEqualFun(train_data_intercept,train_target)\n",
        "\n",
        "\n",
        "# Task 2-3: show intercept and coefficents\n",
        "print(w)\n",
        "\n",
        "# Task 2-4: show errors on training dataset and testing dataset\n",
        "analytical_train_prediction = np.dot(train_data_intercept, w)\n",
        "analytical_test_prediction = np.dot(test_data_intercept, w)\n",
        "\n",
        "print(\"Training Dataset Mean squared error: %.2f\" % mean_squared_error(analytical_train_prediction, train_target))\n",
        "print(\"Testing Dataset Mean squared error: %.2f\" % mean_squared_error(analytical_test_prediction, test_target))\n",
        "\n",
        "# Task 2-5: show plot a figure to show your predictions and real prices on the testing dataset\n",
        "plt.scatter(test_target, analytical_test_prediction,  color='blue')\n",
        "plt.xlabel('Actual price ($1000\\'s)')\n",
        "plt.ylabel('Predicted price ($1000\\'s)')\n",
        "plt.title('Analytical Method')\n",
        "\n",
        "plt.show()\n",
        "\n",
        "print(analytical_test_prediction.shape)\n"
      ],
      "execution_count": 116,
      "outputs": [
        {
          "output_type": "stream",
          "text": [
            "[[ 3.02889483e+01]\n",
            " [-1.12463481e-01]\n",
            " [ 3.00810168e-02]\n",
            " [ 4.07309919e-02]\n",
            " [ 2.78676719e+00]\n",
            " [-1.72406347e+01]\n",
            " [ 4.43248784e+00]\n",
            " [-6.23998173e-03]\n",
            " [-1.44848504e+00]\n",
            " [ 2.62113793e-01]\n",
            " [-1.06390978e-02]\n",
            " [-9.16398679e-01]\n",
            " [ 1.24516469e-02]\n",
            " [-5.09349120e-01]]\n",
            "Training Dataset Mean squared error: 21.64\n",
            "Testing Dataset Mean squared error: 24.31\n"
          ],
          "name": "stdout"
        },
        {
          "output_type": "display_data",
          "data": {
            "image/png": "[encoded data removed]",
            "text/plain": [
              "<matplotlib.figure.Figure at 0x7f9779541898>"
            ]
          },
          "metadata": {
            "tags": []
          }
        },
        {
          "output_type": "stream",
          "text": [
            "(102, 1)\n"
          ],
          "name": "stdout"
        }
      ]
    },
    {
      "metadata": {
        "id": "r-Ow1syXEF1L",
        "colab_type": "text"
      },
      "cell_type": "markdown",
      "source": [
        "<h4>Use numerical solution (gradient descent) to perform linear regression in the following cell</h4>"
      ]
    },
    {
      "metadata": {
        "id": "IJyzeCOzEF1L",
        "colab_type": "code",
        "colab": {
          "base_uri": "https://localhost:8080/",
          "height": 294
        },
        "outputId": "fc8695cd-f1b0-439f-fa83-fbc5b5d754a7"
      },
      "cell_type": "code",
      "source": [
        "# Feature scaling\n",
        "scaler = preprocessing.StandardScaler().fit(train_data)\n",
        "train_data = scaler.transform(train_data)\n",
        "test_data = scaler.transform(test_data)\n",
        "\n",
        "\n",
        "# Task 3-1: Implement a function performing gradient descent\n",
        "# Inputs: Training data, training label, learning rate, number of iterations\n",
        "# Output: Weights\n",
        "def myGradientDescentFun(X,y,learning_rate,numItrs):\n",
        "  w = np.ones([X.shape[1],1])\n",
        "  \n",
        "  for x in range(numItrs):\n",
        "    gradients = np.dot((-1/len(X) * X.T),(y - np.dot(X,w)))\n",
        "    #print(gradients)\n",
        "    w = w - (learning_rate * gradients)\n",
        "  \n",
        "  return w         \n",
        "  \n",
        "\n",
        "# Task 3-2: Implement a function performing prediction\n",
        "# Inputs: Testing data and weights\n",
        "# Output: Predictions\n",
        "def myPredictFun(X,w):\n",
        "  predictions = np.dot(X, w.T)\n",
        "  return predictions\n",
        "\n",
        "# Here we insert a column of 1s into training_data and test_data (to be consistent with our lecture slides)\n",
        "train_data_intercept = np.insert(train_data, 0, 1, axis=1)\n",
        "test_data_intercept = np.insert(test_data, 0, 1, axis=1)\n",
        "\n",
        "# Here we call myGradientDescentFun to train the model and get weights\n",
        "# Note: you need to figure out good learning rate value and the number of iterations\n",
        "w = myGradientDescentFun(train_data_intercept,train_target,0.005,50000)\n",
        "\n",
        "# Task 3-3: show intercept and coefficents\n",
        "print(w)\n",
        "\n",
        "# Task 3-4: show errors on training dataset and testing dataset\n",
        "analytical_train_prediction = myPredictFun(train_data_intercept, w.T)\n",
        "analytical_test_prediction = myPredictFun(test_data_intercept, w.T)\n",
        "\n",
        "print(\"Training Dataset Mean squared error: %.2f\" % mean_squared_error(analytical_train_prediction, train_target))\n",
        "print(\"Testing Dataset Mean squared error: %.2f\" % mean_squared_error(analytical_test_prediction, test_target))\n",
        "\n",
        "\n",
        "# Task 3-5: show plot a figure to show your predictions and real prices on the testing dataset"
      ],
      "execution_count": 117,
      "outputs": [
        {
          "output_type": "stream",
          "text": [
            "[[22.79653465]\n",
            " [-0.99623198]\n",
            " [ 0.69558765]\n",
            " [ 0.28047676]\n",
            " [ 0.71933959]\n",
            " [-2.02678677]\n",
            " [ 3.14074201]\n",
            " [-0.17447148]\n",
            " [-3.08322661]\n",
            " [ 2.24869592]\n",
            " [-1.76573748]\n",
            " [-2.03984932]\n",
            " [ 1.13874218]\n",
            " [-3.61718126]]\n",
            "Training Dataset Mean squared error: 21.64\n",
            "Testing Dataset Mean squared error: 24.31\n"
          ],
          "name": "stdout"
        }
      ]
    },
    {
      "metadata": {
        "id": "_0Hj7K-QkR73",
        "colab_type": "code",
        "colab": {
          "base_uri": "https://localhost:8080/",
          "height": 295
        },
        "outputId": "31a0f2f2-301c-48b5-8778-dece87c90811"
      },
      "cell_type": "code",
      "source": [
        "plt.scatter(test_target, analytical_test_prediction,  color='green')\n",
        "plt.xlabel('Actual price ($1000\\'s)')\n",
        "plt.ylabel('Predicted price ($1000\\'s)')\n",
        "plt.title('Gradient Descent Method')\n",
        "plt.show()"
      ],
      "execution_count": 118,
      "outputs": [
        {
          "output_type": "display_data",
          "data": {
            "image/png": "[encoded data removed]",
            "text/plain": [
              "<matplotlib.figure.Figure at 0x7f977793ed68>"
            ]
          },
          "metadata": {
            "tags": []
          }
        }
      ]
    },
    {
      "metadata": {
        "id": "nfZKl0EpkCzL",
        "colab_type": "code",
        "colab": {}
      },
      "cell_type": "code",
      "source": [
        ""
      ],
      "execution_count": 0,
      "outputs": []
    }
  ]
}